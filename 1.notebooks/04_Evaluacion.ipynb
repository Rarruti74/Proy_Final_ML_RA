{
 "cells": [
  {
   "cell_type": "markdown",
   "id": "fd2dab7c",
   "metadata": {},
   "source": [
    "### 04_Evaluacion.ipynb:\n",
    "\n",
    "El proceso final que demuestra la carga, procesado y ejecución del modelo. Se considera la antesala a poder disponer un modelo productivo.\n",
    "\n",
    "Previamente, se entrenaron tres modelos de clasificadores supervisados. En este cuaderno, se muestra el preprocesamiento de los datos, el entrenamiento de los modelos y las métricas de evaluación mediante las funciones de la carpeta src."
   ]
  },
  {
   "cell_type": "code",
   "execution_count": 1,
   "id": "6aa621ba",
   "metadata": {},
   "outputs": [],
   "source": [
    "import sys\n",
    "sys.path.append(\"C:/Users/aisat/Desktop/DSPT25_RA/3-DSPT2025-ML/Proy_Final_ML_RA/2.src/\")"
   ]
  },
  {
   "cell_type": "code",
   "execution_count": 2,
   "id": "5111e5a5",
   "metadata": {},
   "outputs": [],
   "source": [
    "from preprocessing import load_data, drop_zip_columns, create_train_test_split, balance_data, scale_data\n",
    "from training_and_evaluation import train_decision_tree, train_random_forest, train_xgboost, trainVoting_Classifier"
   ]
  },
  {
   "cell_type": "code",
   "execution_count": 3,
   "id": "29346da1",
   "metadata": {},
   "outputs": [],
   "source": [
    "path_data = \"C:/Users/aisat/Desktop/DSPT25_RA/3-DSPT2025-ML/Proy_Final_ML_RA/data/\"\n",
    "path_models = \"C:/Users/aisat/Desktop/DSPT25_RA/3-DSPT2025-ML/Proy_Final_ML_RA/3.models/\""
   ]
  },
  {
   "cell_type": "markdown",
   "id": "a25be46e",
   "metadata": {},
   "source": [
    "- **1. Cargar los datos**"
   ]
  },
  {
   "cell_type": "code",
   "execution_count": 4,
   "id": "29dc7c46",
   "metadata": {},
   "outputs": [],
   "source": [
    "df = load_data(path_data, 'df_processed.csv') "
   ]
  },
  {
   "cell_type": "code",
   "execution_count": 5,
   "id": "60a0462b",
   "metadata": {},
   "outputs": [
    {
     "data": {
      "text/html": [
       "<div>\n",
       "<style scoped>\n",
       "    .dataframe tbody tr th:only-of-type {\n",
       "        vertical-align: middle;\n",
       "    }\n",
       "\n",
       "    .dataframe tbody tr th {\n",
       "        vertical-align: top;\n",
       "    }\n",
       "\n",
       "    .dataframe thead th {\n",
       "        text-align: right;\n",
       "    }\n",
       "</style>\n",
       "<table border=\"1\" class=\"dataframe\">\n",
       "  <thead>\n",
       "    <tr style=\"text-align: right;\">\n",
       "      <th></th>\n",
       "      <th>Unnamed: 0</th>\n",
       "      <th>Complaint ID</th>\n",
       "      <th>Day_received</th>\n",
       "      <th>Response_time</th>\n",
       "      <th>Product_num</th>\n",
       "      <th>State_num</th>\n",
       "      <th>Timely_response_bin</th>\n",
       "      <th>Company_response_num</th>\n",
       "      <th>Consumer_disputed_num</th>\n",
       "      <th>Issue_num</th>\n",
       "      <th>Company_num</th>\n",
       "    </tr>\n",
       "  </thead>\n",
       "  <tbody>\n",
       "    <tr>\n",
       "      <th>0</th>\n",
       "      <td>0</td>\n",
       "      <td>1177839</td>\n",
       "      <td>1</td>\n",
       "      <td>0</td>\n",
       "      <td>3</td>\n",
       "      <td>7</td>\n",
       "      <td>1</td>\n",
       "      <td>2</td>\n",
       "      <td>0</td>\n",
       "      <td>1</td>\n",
       "      <td>1940</td>\n",
       "    </tr>\n",
       "    <tr>\n",
       "      <th>1</th>\n",
       "      <td>1</td>\n",
       "      <td>1177844</td>\n",
       "      <td>1</td>\n",
       "      <td>0</td>\n",
       "      <td>9</td>\n",
       "      <td>44</td>\n",
       "      <td>1</td>\n",
       "      <td>1</td>\n",
       "      <td>1</td>\n",
       "      <td>4</td>\n",
       "      <td>112</td>\n",
       "    </tr>\n",
       "    <tr>\n",
       "      <th>2</th>\n",
       "      <td>2</td>\n",
       "      <td>1177846</td>\n",
       "      <td>1</td>\n",
       "      <td>0</td>\n",
       "      <td>3</td>\n",
       "      <td>40</td>\n",
       "      <td>1</td>\n",
       "      <td>2</td>\n",
       "      <td>0</td>\n",
       "      <td>4</td>\n",
       "      <td>1525</td>\n",
       "    </tr>\n",
       "    <tr>\n",
       "      <th>3</th>\n",
       "      <td>3</td>\n",
       "      <td>1177928</td>\n",
       "      <td>1</td>\n",
       "      <td>0</td>\n",
       "      <td>6</td>\n",
       "      <td>5</td>\n",
       "      <td>1</td>\n",
       "      <td>1</td>\n",
       "      <td>0</td>\n",
       "      <td>3</td>\n",
       "      <td>133</td>\n",
       "    </tr>\n",
       "    <tr>\n",
       "      <th>4</th>\n",
       "      <td>4</td>\n",
       "      <td>1177930</td>\n",
       "      <td>1</td>\n",
       "      <td>0</td>\n",
       "      <td>2</td>\n",
       "      <td>8</td>\n",
       "      <td>1</td>\n",
       "      <td>1</td>\n",
       "      <td>1</td>\n",
       "      <td>4</td>\n",
       "      <td>1430</td>\n",
       "    </tr>\n",
       "  </tbody>\n",
       "</table>\n",
       "</div>"
      ],
      "text/plain": [
       "   Unnamed: 0  Complaint ID  Day_received  Response_time  Product_num  \\\n",
       "0           0       1177839             1              0            3   \n",
       "1           1       1177844             1              0            9   \n",
       "2           2       1177846             1              0            3   \n",
       "3           3       1177928             1              0            6   \n",
       "4           4       1177930             1              0            2   \n",
       "\n",
       "   State_num  Timely_response_bin  Company_response_num  \\\n",
       "0          7                    1                     2   \n",
       "1         44                    1                     1   \n",
       "2         40                    1                     2   \n",
       "3          5                    1                     1   \n",
       "4          8                    1                     1   \n",
       "\n",
       "   Consumer_disputed_num  Issue_num  Company_num  \n",
       "0                      0          1         1940  \n",
       "1                      1          4          112  \n",
       "2                      0          4         1525  \n",
       "3                      0          3          133  \n",
       "4                      1          4         1430  "
      ]
     },
     "execution_count": 5,
     "metadata": {},
     "output_type": "execute_result"
    }
   ],
   "source": [
    "df.head()"
   ]
  },
  {
   "cell_type": "markdown",
   "id": "b387c880",
   "metadata": {},
   "source": [
    "- **2. Preprocesado de los datos**"
   ]
  },
  {
   "cell_type": "code",
   "execution_count": 6,
   "id": "b678b6b7",
   "metadata": {},
   "outputs": [
    {
     "data": {
      "text/html": [
       "<div>\n",
       "<style scoped>\n",
       "    .dataframe tbody tr th:only-of-type {\n",
       "        vertical-align: middle;\n",
       "    }\n",
       "\n",
       "    .dataframe tbody tr th {\n",
       "        vertical-align: top;\n",
       "    }\n",
       "\n",
       "    .dataframe thead th {\n",
       "        text-align: right;\n",
       "    }\n",
       "</style>\n",
       "<table border=\"1\" class=\"dataframe\">\n",
       "  <thead>\n",
       "    <tr style=\"text-align: right;\">\n",
       "      <th></th>\n",
       "      <th>Complaint ID</th>\n",
       "      <th>Day_received</th>\n",
       "      <th>Response_time</th>\n",
       "      <th>Product_num</th>\n",
       "      <th>State_num</th>\n",
       "      <th>Timely_response_bin</th>\n",
       "      <th>Company_response_num</th>\n",
       "      <th>Consumer_disputed_num</th>\n",
       "      <th>Issue_num</th>\n",
       "      <th>Company_num</th>\n",
       "    </tr>\n",
       "  </thead>\n",
       "  <tbody>\n",
       "    <tr>\n",
       "      <th>0</th>\n",
       "      <td>1177839</td>\n",
       "      <td>1</td>\n",
       "      <td>0</td>\n",
       "      <td>3</td>\n",
       "      <td>7</td>\n",
       "      <td>1</td>\n",
       "      <td>2</td>\n",
       "      <td>0</td>\n",
       "      <td>1</td>\n",
       "      <td>1940</td>\n",
       "    </tr>\n",
       "    <tr>\n",
       "      <th>1</th>\n",
       "      <td>1177844</td>\n",
       "      <td>1</td>\n",
       "      <td>0</td>\n",
       "      <td>9</td>\n",
       "      <td>44</td>\n",
       "      <td>1</td>\n",
       "      <td>1</td>\n",
       "      <td>1</td>\n",
       "      <td>4</td>\n",
       "      <td>112</td>\n",
       "    </tr>\n",
       "    <tr>\n",
       "      <th>2</th>\n",
       "      <td>1177846</td>\n",
       "      <td>1</td>\n",
       "      <td>0</td>\n",
       "      <td>3</td>\n",
       "      <td>40</td>\n",
       "      <td>1</td>\n",
       "      <td>2</td>\n",
       "      <td>0</td>\n",
       "      <td>4</td>\n",
       "      <td>1525</td>\n",
       "    </tr>\n",
       "    <tr>\n",
       "      <th>3</th>\n",
       "      <td>1177928</td>\n",
       "      <td>1</td>\n",
       "      <td>0</td>\n",
       "      <td>6</td>\n",
       "      <td>5</td>\n",
       "      <td>1</td>\n",
       "      <td>1</td>\n",
       "      <td>0</td>\n",
       "      <td>3</td>\n",
       "      <td>133</td>\n",
       "    </tr>\n",
       "    <tr>\n",
       "      <th>4</th>\n",
       "      <td>1177930</td>\n",
       "      <td>1</td>\n",
       "      <td>0</td>\n",
       "      <td>2</td>\n",
       "      <td>8</td>\n",
       "      <td>1</td>\n",
       "      <td>1</td>\n",
       "      <td>1</td>\n",
       "      <td>4</td>\n",
       "      <td>1430</td>\n",
       "    </tr>\n",
       "  </tbody>\n",
       "</table>\n",
       "</div>"
      ],
      "text/plain": [
       "   Complaint ID  Day_received  Response_time  Product_num  State_num  \\\n",
       "0       1177839             1              0            3          7   \n",
       "1       1177844             1              0            9         44   \n",
       "2       1177846             1              0            3         40   \n",
       "3       1177928             1              0            6          5   \n",
       "4       1177930             1              0            2          8   \n",
       "\n",
       "   Timely_response_bin  Company_response_num  Consumer_disputed_num  \\\n",
       "0                    1                     2                      0   \n",
       "1                    1                     1                      1   \n",
       "2                    1                     2                      0   \n",
       "3                    1                     1                      0   \n",
       "4                    1                     1                      1   \n",
       "\n",
       "   Issue_num  Company_num  \n",
       "0          1         1940  \n",
       "1          4          112  \n",
       "2          4         1525  \n",
       "3          3          133  \n",
       "4          4         1430  "
      ]
     },
     "execution_count": 6,
     "metadata": {},
     "output_type": "execute_result"
    }
   ],
   "source": [
    "df = drop_zip_columns(df)\n",
    "df.head()"
   ]
  },
  {
   "cell_type": "code",
   "execution_count": 7,
   "id": "6e9de000",
   "metadata": {},
   "outputs": [],
   "source": [
    "Features = df.drop(columns=['Consumer_disputed_num'])\n",
    "Target = df['Consumer_disputed_num']"
   ]
  },
  {
   "cell_type": "code",
   "execution_count": 8,
   "id": "dbff80f6",
   "metadata": {},
   "outputs": [],
   "source": [
    "X_train, X_test, y_train, y_test = create_train_test_split(Features, Target, test_size=0.2, random_state=42, shuffle=True)"
   ]
  },
  {
   "cell_type": "code",
   "execution_count": 9,
   "id": "59c5041d",
   "metadata": {},
   "outputs": [
    {
     "name": "stdout",
     "output_type": "stream",
     "text": [
      "X_train_shape:  (22524, 9)\n",
      "y_train_shape:  (22524,)\n",
      "\n",
      "X_test_shape:  (5632, 9)\n",
      "y_test_shape:  (5632,)\n"
     ]
    }
   ],
   "source": [
    "print('X_train_shape: ',  X_train.shape)\n",
    "print('y_train_shape: ',  y_train.shape)\n",
    "\n",
    "print('\\nX_test_shape: ',  X_test.shape)\n",
    "print('y_test_shape: ',  y_test.shape)"
   ]
  },
  {
   "cell_type": "code",
   "execution_count": 10,
   "id": "f80767d0",
   "metadata": {},
   "outputs": [],
   "source": [
    "X_train_balanced, y_train_balanced = balance_data(X_train, y_train, over_strategy='auto', under_strategy='auto')"
   ]
  },
  {
   "cell_type": "code",
   "execution_count": 11,
   "id": "d228357c",
   "metadata": {},
   "outputs": [],
   "source": [
    "X_train_balanced_re, X_test_scal = scale_data(X_train_balanced, X_test)"
   ]
  },
  {
   "cell_type": "markdown",
   "id": "99f4cfab",
   "metadata": {},
   "source": [
    "- **3. Modelos de Machine Learning**"
   ]
  },
  {
   "cell_type": "code",
   "execution_count": 12,
   "id": "1967cfe0",
   "metadata": {},
   "outputs": [
    {
     "name": "stdout",
     "output_type": "stream",
     "text": [
      "Decision Tree Test Accuracy: 0.6326\n",
      "              precision    recall  f1-score   support\n",
      "\n",
      "           0       0.36      0.85      0.51       254\n",
      "           1       0.22      0.33      0.26       958\n",
      "           2       0.85      0.69      0.76      4420\n",
      "\n",
      "    accuracy                           0.63      5632\n",
      "   macro avg       0.48      0.62      0.51      5632\n",
      "weighted avg       0.72      0.63      0.66      5632\n",
      "\n",
      "Precision: 0.4765\n",
      "Recall: 0.6238\n"
     ]
    }
   ],
   "source": [
    "tree_clf = train_decision_tree(X_train_balanced_re, y_train_balanced, X_test_scal, y_test, path_models)"
   ]
  },
  {
   "cell_type": "code",
   "execution_count": 13,
   "id": "fdad96ba",
   "metadata": {},
   "outputs": [
    {
     "name": "stdout",
     "output_type": "stream",
     "text": [
      "Random Forest Test Accuracy: 0.6928\n",
      "              precision    recall  f1-score   support\n",
      "\n",
      "           0       0.39      0.81      0.52       254\n",
      "           1       0.23      0.23      0.23       958\n",
      "           2       0.84      0.79      0.81      4420\n",
      "\n",
      "    accuracy                           0.69      5632\n",
      "   macro avg       0.48      0.61      0.52      5632\n",
      "weighted avg       0.72      0.69      0.70      5632\n",
      "\n",
      "Precision: 0.4845\n",
      "Recall: 0.6082\n"
     ]
    }
   ],
   "source": [
    "RF_model = train_random_forest(X_train_balanced_re, y_train_balanced, X_test_scal, y_test, path_models)"
   ]
  },
  {
   "cell_type": "code",
   "execution_count": 14,
   "id": "e54ccf7f",
   "metadata": {},
   "outputs": [
    {
     "name": "stdout",
     "output_type": "stream",
     "text": [
      "XGBoost Test Accuracy: 0.7409\n",
      "              precision    recall  f1-score   support\n",
      "\n",
      "           0       0.47      0.65      0.54       254\n",
      "           1       0.27      0.19      0.22       958\n",
      "           2       0.83      0.87      0.85      4420\n",
      "\n",
      "    accuracy                           0.74      5632\n",
      "   macro avg       0.52      0.57      0.54      5632\n",
      "weighted avg       0.72      0.74      0.73      5632\n",
      "\n",
      "Precision: 0.5218\n",
      "Recall: 0.568\n"
     ]
    }
   ],
   "source": [
    "XGBoost_model = train_xgboost(X_train_balanced_re, y_train_balanced, X_test_scal, y_test, path_models)"
   ]
  },
  {
   "cell_type": "code",
   "execution_count": 15,
   "id": "d5944771",
   "metadata": {},
   "outputs": [
    {
     "name": "stdout",
     "output_type": "stream",
     "text": [
      "Random Forest Test Accuracy: 0.7092\n",
      "              precision    recall  f1-score   support\n",
      "\n",
      "           0       0.37      0.90      0.52       254\n",
      "           1       0.23      0.18      0.20       958\n",
      "           2       0.84      0.81      0.83      4420\n",
      "\n",
      "    accuracy                           0.71      5632\n",
      "   macro avg       0.48      0.63      0.52      5632\n",
      "weighted avg       0.71      0.71      0.71      5632\n",
      "\n",
      "Precision: 0.4797\n",
      "Recall: 0.629\n",
      "XGBoost Test Accuracy: 0.7429\n",
      "              precision    recall  f1-score   support\n",
      "\n",
      "           0       0.48      0.64      0.54       254\n",
      "           1       0.27      0.19      0.22       958\n",
      "           2       0.83      0.87      0.85      4420\n",
      "\n",
      "    accuracy                           0.74      5632\n",
      "   macro avg       0.53      0.57      0.54      5632\n",
      "weighted avg       0.72      0.74      0.73      5632\n",
      "\n",
      "Precision: 0.5254\n",
      "Recall: 0.5658\n",
      "Voting Classifier Test Accuracy: 0.7404\n",
      "              precision    recall  f1-score   support\n",
      "\n",
      "           0       0.44      0.72      0.55       254\n",
      "           1       0.26      0.17      0.21       958\n",
      "           2       0.83      0.87      0.85      4420\n",
      "\n",
      "    accuracy                           0.74      5632\n",
      "   macro avg       0.51      0.58      0.53      5632\n",
      "weighted avg       0.72      0.74      0.73      5632\n",
      "\n",
      "Precision: 0.5111\n",
      "Recall: 0.5843\n"
     ]
    }
   ],
   "source": [
    "Voting_model = trainVoting_Classifier(X_train_balanced_re, y_train_balanced, X_test_scal, y_test, path_models)"
   ]
  }
 ],
 "metadata": {
  "kernelspec": {
   "display_name": "base",
   "language": "python",
   "name": "python3"
  },
  "language_info": {
   "codemirror_mode": {
    "name": "ipython",
    "version": 3
   },
   "file_extension": ".py",
   "mimetype": "text/x-python",
   "name": "python",
   "nbconvert_exporter": "python",
   "pygments_lexer": "ipython3",
   "version": "3.13.5"
  }
 },
 "nbformat": 4,
 "nbformat_minor": 5
}

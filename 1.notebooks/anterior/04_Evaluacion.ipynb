{
 "cells": [
  {
   "cell_type": "markdown",
   "id": "fd2dab7c",
   "metadata": {},
   "source": [
    "### 04_Evaluacion.ipynb:\n",
    "\n",
    "El proceso final que demuestra la carga, procesado y ejecución del modelo. Se considera la antesala a poder disponer un modelo productivo.\n",
    "\n",
    "Previamente, se entrenaron tres modelos de clasificadores supervisados. En este cuaderno, se muestra el preprocesamiento de los datos, el entrenamiento de los modelos y las métricas de evaluación mediante las funciones de la carpeta src."
   ]
  },
  {
   "cell_type": "code",
   "execution_count": null,
   "id": "6aa621ba",
   "metadata": {},
   "outputs": [],
   "source": [
    "import sys\n",
    "sys.path.append(\"C:/Users/aisat/Desktop/DSPT25_RA/3-DSPT2025-ML/Proy_Final_ML_RA/2.src/\")"
   ]
  },
  {
   "cell_type": "code",
   "execution_count": null,
   "id": "5111e5a5",
   "metadata": {},
   "outputs": [],
   "source": [
    "from preprocessing import load_data, drop_zip_columns, create_train_test_split, balance_data, scale_data\n",
    "from training_and_evaluation import train_decision_tree, train_random_forest, train_xgboost, trainVoting_Classifier"
   ]
  },
  {
   "cell_type": "code",
   "execution_count": null,
   "id": "29346da1",
   "metadata": {},
   "outputs": [],
   "source": [
    "path_data = \"C:/Users/aisat/Desktop/DSPT25_RA/3-DSPT2025-ML/Proy_Final_ML_RA/data/\"\n",
    "path_models = \"C:/Users/aisat/Desktop/DSPT25_RA/3-DSPT2025-ML/Proy_Final_ML_RA/3.models/\""
   ]
  },
  {
   "cell_type": "markdown",
   "id": "a25be46e",
   "metadata": {},
   "source": [
    "- **1. Cargar los datos**"
   ]
  },
  {
   "cell_type": "code",
   "execution_count": null,
   "id": "29dc7c46",
   "metadata": {},
   "outputs": [],
   "source": [
    "df = load_data(path_data, 'df_reduced.csv') "
   ]
  },
  {
   "cell_type": "markdown",
   "id": "b387c880",
   "metadata": {},
   "source": [
    "- **2. Preprocesado de los datos**"
   ]
  },
  {
   "cell_type": "code",
   "execution_count": null,
   "id": "b678b6b7",
   "metadata": {},
   "outputs": [],
   "source": [
    "df = drop_zip_columns(df)\n",
    "df.head()"
   ]
  },
  {
   "cell_type": "code",
   "execution_count": null,
   "id": "6e9de000",
   "metadata": {},
   "outputs": [],
   "source": [
    "Features = df.drop(columns=['Consumer_disputed_modify'])\n",
    "Target = df['Consumer_disputed_modify']"
   ]
  },
  {
   "cell_type": "code",
   "execution_count": null,
   "id": "dbff80f6",
   "metadata": {},
   "outputs": [],
   "source": [
    "X_train, X_test, y_train, y_test = create_train_test_split(Features, Target, test_size=0.2, random_state=42, shuffle=True)"
   ]
  },
  {
   "cell_type": "code",
   "execution_count": null,
   "id": "59c5041d",
   "metadata": {},
   "outputs": [],
   "source": [
    "print('X_train_shape: ',  X_train.shape)\n",
    "print('y_train_shape: ',  y_train.shape)\n",
    "\n",
    "print('\\nX_test_shape: ',  X_test.shape)\n",
    "print('y_test_shape: ',  y_test.shape)"
   ]
  },
  {
   "cell_type": "code",
   "execution_count": null,
   "id": "f80767d0",
   "metadata": {},
   "outputs": [],
   "source": [
    "X_train_balanced, y_train_balanced = balance_data(X_train, y_train, over_strategy='auto', under_strategy='auto')"
   ]
  },
  {
   "cell_type": "code",
   "execution_count": null,
   "id": "d228357c",
   "metadata": {},
   "outputs": [],
   "source": [
    "X_train_balanced_re, X_test_scal = scale_data(X_train_balanced, X_test)"
   ]
  },
  {
   "cell_type": "markdown",
   "id": "99f4cfab",
   "metadata": {},
   "source": [
    "- **3. Modelos de Machine Learning**"
   ]
  },
  {
   "cell_type": "code",
   "execution_count": null,
   "id": "1967cfe0",
   "metadata": {},
   "outputs": [],
   "source": [
    "tree_clf = train_decision_tree(X_train_balanced_re, y_train_balanced, X_test_scal, y_test, path_models)"
   ]
  },
  {
   "cell_type": "code",
   "execution_count": null,
   "id": "fdad96ba",
   "metadata": {},
   "outputs": [],
   "source": [
    "RF_model = train_random_forest(X_train_balanced_re, y_train_balanced, X_test_scal, y_test, path_models)"
   ]
  },
  {
   "cell_type": "code",
   "execution_count": null,
   "id": "e54ccf7f",
   "metadata": {},
   "outputs": [],
   "source": [
    "XGBoost_model = train_xgboost(X_train_balanced_re, y_train_balanced, X_test_scal, y_test, path_models)"
   ]
  },
  {
   "cell_type": "code",
   "execution_count": null,
   "id": "d5944771",
   "metadata": {},
   "outputs": [],
   "source": [
    "Voting_model = trainVoting_Classifier(X_train_balanced_re, y_train_balanced, X_test_scal, y_test, path_models)"
   ]
  }
 ],
 "metadata": {
  "kernelspec": {
   "display_name": "base",
   "language": "python",
   "name": "python3"
  },
  "language_info": {
   "name": "python",
   "version": "3.13.5"
  }
 },
 "nbformat": 4,
 "nbformat_minor": 5
}
